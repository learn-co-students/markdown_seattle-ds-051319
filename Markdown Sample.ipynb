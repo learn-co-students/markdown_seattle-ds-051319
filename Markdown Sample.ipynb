{
 "cells": [
  {
   "cell_type": "markdown",
   "metadata": {},
   "source": [
    "# See if you can reproduce this!\n",
    "\n",
    "## It has headers\n",
    "\n",
    "### And smaller headers\n",
    "\n",
    "It has *italics* and **boldface** fonts.\n",
    "\n",
    "*When should I use italics?*\n",
    "\n",
    "**Is boldface better?**\n",
    "\n",
    "### But the headers  don't necessarily correspond to anything.\n",
    "\n",
    "# Some are unnecessarily big.\n",
    "\n",
    "It also has ```codeblocks```. If we want to put in a link to flatironschool.com under the word 'Flatiron', we can do this: [Flatiron](https://flatironschool.com)\n",
    "\n",
    "```python\n",
    "def sample_function(x, y):\n",
    "    '''What does this function do?'''\n",
    "    if x >= y:\n",
    "        return x\n",
    "    else:\n",
    "        return y\n",
    "```\n",
    "\n",
    "$lim_{\\Delta x\\rightarrow 0}\\frac{(x + \\Delta x)^2 - x^2}{\\Delta x} = 2x$"
   ]
  },
  {
   "cell_type": "code",
   "execution_count": null,
   "metadata": {},
   "outputs": [],
   "source": []
  }
 ],
 "metadata": {
  "kernelspec": {
   "display_name": "Python 3",
   "language": "python",
   "name": "python3"
  },
  "language_info": {
   "codemirror_mode": {
    "name": "ipython",
    "version": 3
   },
   "file_extension": ".py",
   "mimetype": "text/x-python",
   "name": "python",
   "nbconvert_exporter": "python",
   "pygments_lexer": "ipython3",
   "version": "3.7.1"
  }
 },
 "nbformat": 4,
 "nbformat_minor": 2
}
