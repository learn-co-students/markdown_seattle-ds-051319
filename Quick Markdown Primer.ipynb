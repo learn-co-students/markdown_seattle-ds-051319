# A Markdown Primer

Markdown is like a simplified version of html, which makes it a way of converting ordinary text to a richer format.

## Headers
Create headers with '#': the more '#'s, the smaller the header.

## Italics and Boldface
Wrap text in single '\*'s or single '\_'s for italics; wrap text in double '\*'s or double '\_'s for boldface.

## Hyperlinks
Put the text you want linked in '\[ \]'s and then put the URL itself in '( )'s.

## '\$'s
For more complicated text, like math equations, wrap the whole thing in '$'s.

### Greek letters
Get Greek letters by simply writing a backslash followed by the letter name spelled out in English. I can get $\pi$, for example, by writing '\$\pi\\$'. If the English is capitalized, the output will be a capital Greek letter.

### Super- and subscripting

Use '^{}' for superscripts. If I wanted to write $e^{i\theta}$, for example, I would write '\$e\^\{i\theta\}\\$'

Use '\_{}' for subscripts. If wanted to write $x_{n+1}$, for example, I would write '\$x\_\{n+1\}\\$'

### Codeblocks
For codeblocks, wrap the whole text in triple backticks (\`\`\`). If you write the name of the coding language after the opening backticks, your code will get language-appropriate formatting.

### Math
The math typesetting is very rich!

We can get the integral symbol, $\int$, with '\$\\int\\$'

and $\bar{X}$ with '\$\bar{X}\\$'

For fractions, we can type '\$\frac{\[numerator here\]}{\[denominator here\]}\\$'

Use '\\$\\rightarrow\\$' for a right-pointing arrow like this one: $\rightarrow$!
